{
  "nbformat": 4,
  "nbformat_minor": 0,
  "metadata": {
    "colab": {
      "provenance": [],
      "toc_visible": true,
      "authorship_tag": "ABX9TyNi7KDf8W5KFFu2USgiYt0Z",
      "include_colab_link": true
    },
    "kernelspec": {
      "name": "python3",
      "display_name": "Python 3"
    },
    "language_info": {
      "name": "python"
    }
  },
  "cells": [
    {
      "cell_type": "markdown",
      "metadata": {
        "id": "view-in-github",
        "colab_type": "text"
      },
      "source": [
        "<a href=\"https://colab.research.google.com/github/sundhar-velmurugan/strategy_capstone/blob/main/SC.ipynb\" target=\"_parent\"><img src=\"https://colab.research.google.com/assets/colab-badge.svg\" alt=\"Open In Colab\"/></a>"
      ]
    },
    {
      "cell_type": "markdown",
      "source": [
        "### Basic Terminology\n",
        "#### Segment Map\n",
        "**trad** - Tradition <br />\n",
        "**lend** - Low end <br />\n",
        "**hend** - High end <br />\n",
        "**perf** - Performance <br />\n",
        "**size** - Size <br />"
      ],
      "metadata": {
        "id": "mziHvWqvhcul"
      }
    },
    {
      "cell_type": "markdown",
      "source": [
        "### Segment Center Finder\n",
        "The following function will return the segment center for the given date.\n",
        "<br /> **Note:** Segments drift each month."
      ],
      "metadata": {
        "id": "-1QNwpWRZbLa"
      }
    },
    {
      "cell_type": "code",
      "execution_count": null,
      "metadata": {
        "colab": {
          "base_uri": "https://localhost:8080/"
        },
        "id": "dLnbiZdi43ch",
        "outputId": "e5bf8f54-05f8-4374-fd03-59986614579a"
      },
      "outputs": [
        {
          "output_type": "execute_result",
          "data": {
            "text/plain": [
              "(7.45, 12.55)"
            ]
          },
          "metadata": {},
          "execution_count": 32
        }
      ],
      "source": [
        "def center_finder(segment, date):\n",
        "  # 0 - performance, 1 - size\n",
        "  DRIFT_RATE = {\n",
        "      \"trad\": [+0.7, -0.7],\n",
        "      \"lend\": [+0.5, -0.5],\n",
        "      \"hend\": [+0.9, -0.9],\n",
        "      \"perf\": [+1.0, -0.7],\n",
        "      \"size\": [+0.7, -1.0]\n",
        "  }\n",
        "  POSITION_AT_JAN_2024 = {\n",
        "      \"trad\": [5.0, 15.0],\n",
        "      \"lend\": [2.5, 17.5],\n",
        "      \"hend\": [7.5, 12.5],\n",
        "      \"perf\": [8.0, 17.0],\n",
        "      \"size\": [3.0, 12.0]\n",
        "  }\n",
        "\n",
        "  (day, month, year) = (int(x) for x in date.split(\"/\"))\n",
        "\n",
        "  year_multiplier = year-2024\n",
        "  month_multiplier = (month-1)/12\n",
        "\n",
        "  curr = POSITION_AT_JAN_2024.get(segment)\n",
        "  drift = DRIFT_RATE.get(segment)\n",
        "\n",
        "  # (performance, size)\n",
        "  output = (\n",
        "      round(curr[0]+drift[0]*year_multiplier+drift[0]*month_multiplier, 2),\n",
        "      round(curr[1]+drift[1]*year_multiplier+drift[1]*month_multiplier, 2)\n",
        "  )\n",
        "\n",
        "  return output\n",
        "\n",
        "# INPUT\n",
        "center_finder(\"trad\", \"1/7/2027\")"
      ]
    },
    {
      "cell_type": "markdown",
      "source": [
        "### Segment Position Information\n",
        "Finds the ideal spot for the segment for the given date. <br />\n",
        "The distance and angle between the ideal spot and new position can also be found. <br />\n",
        "**Radial Distance:** distance between two points formula <br />\n",
        "**Azimuth Angle:**\n",
        "1.   *Formula:* tan-inverse(performance distance / size distance)\n",
        "2.   *Sign Interpretation:* +ve: upward slope, -ve: downward slope\n",
        "3.   *Magnitude Interpretation:* angle from the leftmost point\n",
        "\n",
        "**Distance from Segment Center**<br />\n",
        "<2.5: inside positioning fine cut circle <br />\n",
        "2.5 - 4: inside positioning rough cut circle\n",
        "\n"
      ],
      "metadata": {
        "id": "yJZvxtuRttbo"
      }
    },
    {
      "cell_type": "code",
      "source": [
        "from math import sqrt, atan, degrees\n",
        "\n",
        "def segment_position_info(segment, date, position=None):\n",
        "  # return information: whether the point is inside the circle, distance to the offset\n",
        "  IDEAL_SPOT_OFFSET = {\n",
        "      \"trad\": [0.0, 0.0],\n",
        "      \"lend\": [-0.8, +0.8],\n",
        "      \"hend\": [+1.4, -1.4],\n",
        "      \"perf\": [+1.4, -1.0],\n",
        "      \"size\": [+1.0, -1.4]\n",
        "  }\n",
        "\n",
        "  (center_perf, center_size) = center_finder(segment, date)\n",
        "  ideal_perf = center_perf + IDEAL_SPOT_OFFSET.get(segment)[0]\n",
        "  ideal_size = center_size + IDEAL_SPOT_OFFSET.get(segment)[1]\n",
        "\n",
        "  if position is not None:\n",
        "    (input_perf, input_size) = position\n",
        "    perf_distance = ideal_perf-input_perf\n",
        "    size_distance = ideal_size-input_size\n",
        "    if size_distance != 0:\n",
        "      radial_distance = round(sqrt(perf_distance**2 + size_distance**2), 2)\n",
        "      azimuth_angle = round(degrees(atan(perf_distance/size_distance)))\n",
        "      print(\"Relative position from Ideal Spot:\", (ideal_perf, ideal_size), \"->\", position, \":\", radial_distance, \"|\", azimuth_angle, u'\\N{DEGREE SIGN}')\n",
        "\n",
        "    distance_from_center = round(\n",
        "        sqrt(\n",
        "            (center_perf-input_perf)**2 + (center_size-input_size)**2\n",
        "        ), 2\n",
        "    )\n",
        "    print(\"Distance from Segment Center     :\", (center_perf, center_size), \"->\", position, \":\", distance_from_center)\n",
        "\n",
        "  else:\n",
        "    print(\"Segment Center: \", center_perf, \"|\", center_size)\n",
        "    print(\"Ideal Spot    : \", ideal_perf, \"|\", ideal_size)\n",
        "\n",
        "segment_position_info(\"lend\", \"1/7/2027\")\n",
        "segment_position_info(\"lend\", \"1/1/2024\", (3, 16))"
      ],
      "metadata": {
        "id": "COGatcnN8A91",
        "colab": {
          "base_uri": "https://localhost:8080/"
        },
        "outputId": "6c99e9c4-063a-417e-c9b3-185cea2dfb2f"
      },
      "execution_count": null,
      "outputs": [
        {
          "output_type": "stream",
          "name": "stdout",
          "text": [
            "Segment Center:  4.25 | 15.75\n",
            "Ideal Spot    :  3.45 | 16.55\n",
            "Relative position from Ideal Spot: (1.7, 18.3) -> (3, 16) : 2.64 | -29 °\n",
            "Distance from Segment Center     : (2.5, 17.5) -> (3, 16) : 1.58\n"
          ]
        }
      ]
    },
    {
      "cell_type": "code",
      "source": [
        "def industry_info():\n",
        "  # return segments size for all years\n",
        "  print(\"hello\")"
      ],
      "metadata": {
        "id": "fAtquwX4bRDQ"
      },
      "execution_count": null,
      "outputs": []
    },
    {
      "cell_type": "code",
      "source": [
        "def product_market_fit():\n",
        "  # return a score based on customer buying criteria\n",
        "  print (\"hello\")"
      ],
      "metadata": {
        "id": "PpmBZF4q8z11"
      },
      "execution_count": null,
      "outputs": []
    },
    {
      "cell_type": "code",
      "source": [
        "def return_on_promo_budget():\n",
        "  print(\"hello\")"
      ],
      "metadata": {
        "id": "zbGy1hO1bla8"
      },
      "execution_count": null,
      "outputs": []
    },
    {
      "cell_type": "code",
      "source": [
        "def return_on_sales_budget():\n",
        "  print(\"hello\")"
      ],
      "metadata": {
        "id": "WzW5_ierbsBT"
      },
      "execution_count": null,
      "outputs": []
    },
    {
      "cell_type": "code",
      "source": [
        "# do all calculations in situation analysis"
      ],
      "metadata": {
        "id": "LH-hgnHx_o3j"
      },
      "execution_count": null,
      "outputs": []
    }
  ]
}